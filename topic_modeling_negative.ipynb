{
 "cells": [
  {
   "cell_type": "code",
   "execution_count": 1,
   "metadata": {},
   "outputs": [
    {
     "name": "stderr",
     "output_type": "stream",
     "text": [
      "[nltk_data] Downloading package stopwords to\n",
      "[nltk_data]     C:\\Users\\mathe\\AppData\\Roaming\\nltk_data...\n",
      "[nltk_data]   Package stopwords is already up-to-date!\n"
     ]
    }
   ],
   "source": [
    "# Import necessary libraries\n",
    "import re\n",
    "import nltk\n",
    "import numpy as np\n",
    "import pandas as pd\n",
    "\n",
    "from time import time\n",
    "from nltk.corpus import stopwords\n",
    "from sklearn.feature_extraction import text\n",
    "from sklearn.feature_extraction.text import TfidfVectorizer, CountVectorizer\n",
    "from sklearn.decomposition import NMF, LatentDirichletAllocation, TruncatedSVD\n",
    "\n",
    "nltk.download('stopwords')"
   ]
  },
  {
   "cell_type": "markdown",
   "metadata": {},
   "source": [
    "## Topic Modeling"
   ]
  },
  {
   "cell_type": "code",
   "execution_count": 13,
   "metadata": {},
   "outputs": [],
   "source": [
    "# Defining parameters\n",
    "n_features = 10000\n",
    "n_components = 15\n",
    "n_top_word = 7"
   ]
  },
  {
   "cell_type": "code",
   "execution_count": 3,
   "metadata": {},
   "outputs": [],
   "source": [
    "# Function to print topics\n",
    "def print_top_words(model, feature_names, n_top_words):\n",
    "    for topic_idx, topic in enumerate(model.components_):\n",
    "        message = \"Topic #%d: \" % topic_idx\n",
    "        message += \" \".join([feature_names[i]\n",
    "                             for i in topic.argsort()[:-n_top_words - 1:-1]])\n",
    "        print(message)\n",
    "    print()"
   ]
  },
  {
   "cell_type": "markdown",
   "metadata": {},
   "source": [
    "### Dataset"
   ]
  },
  {
   "cell_type": "code",
   "execution_count": 4,
   "metadata": {},
   "outputs": [
    {
     "name": "stdout",
     "output_type": "stream",
     "text": [
      "Loading dataset...\n"
     ]
    },
    {
     "data": {
      "text/html": [
       "<div>\n",
       "<style scoped>\n",
       "    .dataframe tbody tr th:only-of-type {\n",
       "        vertical-align: middle;\n",
       "    }\n",
       "\n",
       "    .dataframe tbody tr th {\n",
       "        vertical-align: top;\n",
       "    }\n",
       "\n",
       "    .dataframe thead th {\n",
       "        text-align: right;\n",
       "    }\n",
       "</style>\n",
       "<table border=\"1\" class=\"dataframe\">\n",
       "  <thead>\n",
       "    <tr style=\"text-align: right;\">\n",
       "      <th></th>\n",
       "      <th>Unnamed: 0</th>\n",
       "      <th>User_name</th>\n",
       "      <th>Time</th>\n",
       "      <th>Location</th>\n",
       "      <th>text</th>\n",
       "      <th>Sentiment</th>\n",
       "    </tr>\n",
       "  </thead>\n",
       "  <tbody>\n",
       "    <tr>\n",
       "      <th>0</th>\n",
       "      <td>4</td>\n",
       "      <td>5</td>\n",
       "      <td>16-03-2020</td>\n",
       "      <td>NaN</td>\n",
       "      <td>Me, ready to go at supermarket during the #COV...</td>\n",
       "      <td>Negative</td>\n",
       "    </tr>\n",
       "    <tr>\n",
       "      <th>1</th>\n",
       "      <td>18</td>\n",
       "      <td>19</td>\n",
       "      <td>16-03-2020</td>\n",
       "      <td>North America</td>\n",
       "      <td>Amazon Glitch Stymies Whole Foods, Fresh Groce...</td>\n",
       "      <td>Negative</td>\n",
       "    </tr>\n",
       "    <tr>\n",
       "      <th>2</th>\n",
       "      <td>20</td>\n",
       "      <td>21</td>\n",
       "      <td>16-03-2020</td>\n",
       "      <td>southampton soxx xxx</td>\n",
       "      <td>with 100  nations inficted with  covid  19  th...</td>\n",
       "      <td>Negative</td>\n",
       "    </tr>\n",
       "    <tr>\n",
       "      <th>3</th>\n",
       "      <td>24</td>\n",
       "      <td>25</td>\n",
       "      <td>16-03-2020</td>\n",
       "      <td>Downstage centre</td>\n",
       "      <td>@10DowningStreet @grantshapps what is being do...</td>\n",
       "      <td>Negative</td>\n",
       "    </tr>\n",
       "    <tr>\n",
       "      <th>4</th>\n",
       "      <td>26</td>\n",
       "      <td>27</td>\n",
       "      <td>16-03-2020</td>\n",
       "      <td>Ketchum, Idaho</td>\n",
       "      <td>In preparation for higher demand and a potenti...</td>\n",
       "      <td>Negative</td>\n",
       "    </tr>\n",
       "  </tbody>\n",
       "</table>\n",
       "</div>"
      ],
      "text/plain": [
       "   Unnamed: 0  User_name        Time              Location  \\\n",
       "0           4          5  16-03-2020                   NaN   \n",
       "1          18         19  16-03-2020         North America   \n",
       "2          20         21  16-03-2020  southampton soxx xxx   \n",
       "3          24         25  16-03-2020      Downstage centre   \n",
       "4          26         27  16-03-2020        Ketchum, Idaho   \n",
       "\n",
       "                                                text Sentiment  \n",
       "0  Me, ready to go at supermarket during the #COV...  Negative  \n",
       "1  Amazon Glitch Stymies Whole Foods, Fresh Groce...  Negative  \n",
       "2  with 100  nations inficted with  covid  19  th...  Negative  \n",
       "3  @10DowningStreet @grantshapps what is being do...  Negative  \n",
       "4  In preparation for higher demand and a potenti...  Negative  "
      ]
     },
     "execution_count": 4,
     "metadata": {},
     "output_type": "execute_result"
    }
   ],
   "source": [
    "# Loading dataset\n",
    "print(\"Loading dataset...\")\n",
    "dataset = pd.read_csv('data/tweets-covid-negative.csv', engine='python')\n",
    "data_samples = dataset.iloc[1:,0]\n",
    "n_samples = len(data_samples)\n",
    "dataset.head()"
   ]
  },
  {
   "cell_type": "markdown",
   "metadata": {},
   "source": [
    "### Preprocessing"
   ]
  },
  {
   "cell_type": "code",
   "execution_count": null,
   "metadata": {},
   "outputs": [],
   "source": [
    "# StopWords\n",
    "stopwords.words('english')"
   ]
  },
  {
   "cell_type": "code",
   "execution_count": 5,
   "metadata": {},
   "outputs": [
    {
     "data": {
      "text/plain": [
       "['ready go supermarket covid outbreak paranoid food stock litteraly empty coronavirus serious thing please panic causes shortage coronavirusfrance restezchezvous stayathome confinement',\n",
       " 'amazon glitch stymies whole foods fresh grocery deliveries covid spread seen significant increase people shopping online groceries spokeswoman said statement today resulted systems impact affecting',\n",
       " 'nations inficted covid world must play fair china goverments must demand china adopts new guilde lines food safty chinese goverment guilty irosponcible life global scale',\n",
       " 'downingstreet grantshapps done ensure food essential products stocked supermarkets panic buying actively discouraged cannot left checkout staff police actions selfish profiteer',\n",
       " 'preparation higher demand potential food shortage hunger coalition purchased percent food implemented new protocols due covid coronavirus']"
      ]
     },
     "execution_count": 5,
     "metadata": {},
     "output_type": "execute_result"
    }
   ],
   "source": [
    "new_comment = []\n",
    "\n",
    "# Preprocessing\n",
    "for i in range(dataset.shape[0]):\n",
    "    comment = re.sub('[^a-zA-Z]',' ',dataset['text'][i]) # Remove non-letters\n",
    "    comment = comment.split(\"http\", 1)[0] # Remove address from string\n",
    "    comment = comment.lower() # Set lower case\n",
    "    comment = comment.split() # Divide into a list\n",
    "    comment = [word for word in comment if not word in stopwords.words('english')] # Select important words\n",
    "    comment =' '.join(comment)\n",
    "    new_comment.append(comment)\n",
    "\n",
    "new_comment[0:5]"
   ]
  },
  {
   "cell_type": "markdown",
   "metadata": {},
   "source": [
    "### Topic Extraction"
   ]
  },
  {
   "cell_type": "code",
   "execution_count": 14,
   "metadata": {},
   "outputs": [
    {
     "name": "stdout",
     "output_type": "stream",
     "text": [
      "Extracting tf-idf features for NMF...\n",
      "tf-idf features extracted!\n"
     ]
    }
   ],
   "source": [
    "# Use tf-idf features for NMF.\n",
    "print(\"Extracting tf-idf features for NMF...\")\n",
    "tfidf_vectorizer = CountVectorizer(max_df=0.95, min_df=2,\n",
    "                                max_features=n_features,\n",
    "                                stop_words=stopwords.words('english'))\n",
    "tfidf = tfidf_vectorizer.fit_transform(new_comment)\n",
    "\n",
    "print(\"tf-idf features extracted!\")"
   ]
  },
  {
   "cell_type": "code",
   "execution_count": 15,
   "metadata": {},
   "outputs": [
    {
     "name": "stdout",
     "output_type": "stream",
     "text": [
      "Extracting tf features for LDA...\n",
      "tf features for LDA extraction is completed!\n"
     ]
    }
   ],
   "source": [
    "# Use tf features for LDA.\n",
    "print(\"Extracting tf features for LDA...\")\n",
    "tf_vectorizer = CountVectorizer(max_df=0.95, min_df=2,\n",
    "                                max_features=n_features,\n",
    "                                stop_words=stopwords.words('english'))\n",
    "tf = tf_vectorizer.fit_transform(new_comment)\n",
    "\n",
    "print(\"tf features for LDA extraction is completed!\")"
   ]
  },
  {
   "cell_type": "code",
   "execution_count": 9,
   "metadata": {},
   "outputs": [
    {
     "name": "stdout",
     "output_type": "stream",
     "text": [
      "Fitting the NMF model (Frobenius norm) with tf-idf features, n_samples=16440 and n_features=10000...\n",
      "done in 2.669s.\n",
      "\n",
      "Topics in NMF model (Frobenius norm):\n",
      "Topic #0: covid online shopping virus due lockdown uk\n",
      "Topic #1: prices oil price low pandemic demand gas\n",
      "Topic #2: coronavirus toiletpaper sanitizer toilet pandemic shopping paper\n",
      "Topic #3: food demand stock supply need banks get\n",
      "Topic #4: amp us home online health help risk\n",
      "Topic #5: people need get going many think still\n",
      "Topic #6: store grocery workers go work get going\n",
      "Topic #7: panic buying stop need buy shelves food\n",
      "Topic #8: supermarket go shelves get empty going home\n",
      "Topic #9: consumer crisis demand pandemic us economy scams\n",
      "\n"
     ]
    },
    {
     "name": "stderr",
     "output_type": "stream",
     "text": [
      "c:\\users\\mathe\\appdata\\local\\programs\\python\\python37\\lib\\site-packages\\sklearn\\decomposition\\_nmf.py:1077: ConvergenceWarning: Maximum number of iterations 200 reached. Increase it to improve convergence.\n",
      "  \" improve convergence.\" % max_iter, ConvergenceWarning)\n"
     ]
    }
   ],
   "source": [
    "# Fit the NMF model\n",
    "print(\"Fitting the NMF model (Frobenius norm) with tf-idf features, \"\n",
    "      \"n_samples=%d and n_features=%d...\"\n",
    "      % (n_samples, n_features))\n",
    "t0 = time()\n",
    "nmf = NMF(n_components=n_components, random_state=1,\n",
    "          alpha=.1, l1_ratio=.5).fit(tfidf)\n",
    "print(\"done in %0.3fs.\" % (time() - t0))\n",
    "\n",
    "print(\"\\nTopics in NMF model (Frobenius norm):\")\n",
    "tfidf_feature_names = tfidf_vectorizer.get_feature_names()\n",
    "print_top_words(nmf, tfidf_feature_names, n_top_word)"
   ]
  },
  {
   "cell_type": "code",
   "execution_count": 17,
   "metadata": {},
   "outputs": [
    {
     "name": "stdout",
     "output_type": "stream",
     "text": [
      "Fitting the NMF model (generalized Kullback-Leibler divergence) with tf-idf features, n_samples=16440 and n_features=10000...\n",
      "done in 12.603s.\n",
      "\n",
      "Topics in NMF model (generalized Kullback-Leibler divergence):\n",
      "Topic #0: covid coronavirus virus one even like paper\n",
      "Topic #1: prices covid price gas market low pandemic\n",
      "Topic #2: coronavirus prices sanitizer hand masks news trump\n",
      "Topic #3: food panic buying supply demand stock supplies\n",
      "Topic #4: amp masks govt people many risk help\n",
      "Topic #5: people going prices time many still think\n",
      "Topic #6: store grocery retail stores food employees like\n",
      "Topic #7: panic supermarket buying shelves stop empty buy\n",
      "Topic #8: supermarket home one go social local day\n",
      "Topic #9: consumer pandemic new scams business economy consumers\n",
      "Topic #10: shopping online delivery home time order please\n",
      "Topic #11: oil pandemic global covid russia amid demand\n",
      "Topic #12: get covid go need stock us home\n",
      "Topic #13: crisis covid workers us health essential staff\n",
      "Topic #14: demand covid workers get due work us\n",
      "\n"
     ]
    }
   ],
   "source": [
    "# Fit the NMF model\n",
    "print(\"Fitting the NMF model (generalized Kullback-Leibler divergence) with \"\n",
    "      \"tf-idf features, n_samples=%d and n_features=%d...\"\n",
    "      % (n_samples, n_features))\n",
    "t0 = time()\n",
    "nmf = NMF(n_components=n_components, random_state=1,\n",
    "          beta_loss='kullback-leibler', solver='mu', max_iter=1000, alpha=.1,\n",
    "          l1_ratio=.5).fit(tfidf)\n",
    "print(\"done in %0.3fs.\" % (time() - t0))\n",
    "\n",
    "print(\"\\nTopics in NMF model (generalized Kullback-Leibler divergence):\")\n",
    "tfidf_feature_names = tfidf_vectorizer.get_feature_names()\n",
    "print_top_words(nmf, tfidf_feature_names, n_top_word)"
   ]
  },
  {
   "cell_type": "code",
   "execution_count": 11,
   "metadata": {},
   "outputs": [
    {
     "name": "stdout",
     "output_type": "stream",
     "text": [
      "Fitting LDA models with tf features, n_samples=16440 and n_features=10000...\n",
      "done in 26.437s.\n",
      "\n",
      "Topics in LDA model:\n",
      "Topic #0: covid oil consumer coronavirus prices price pandemic\n",
      "Topic #1: prices shops current better selling sold shame\n",
      "Topic #2: prices day covid health crisis care amp\n",
      "Topic #3: covid coronavirus supermarket people store grocery food\n",
      "Topic #4: consumer crisis covid amp china response company\n",
      "Topic #5: prices covid coronavirus food demand amp pandemic\n",
      "Topic #6: workers toiletpaper good chains gt stayhomesavelives employees\n",
      "Topic #7: covid online shopping food demand new distancing\n",
      "Topic #8: pay coronaviruspandemic story rent employee street cnn\n",
      "Topic #9: higher cuts bill potential new fed step\n",
      "\n"
     ]
    }
   ],
   "source": [
    "# Fit the LDA model\n",
    "print(\"Fitting LDA models with tf features, \"\n",
    "      \"n_samples=%d and n_features=%d...\"\n",
    "      % (n_samples, n_features))\n",
    "lda = LatentDirichletAllocation(n_components=n_components, max_iter=5,\n",
    "                                learning_method='online',\n",
    "                                learning_offset=50.,\n",
    "                                random_state=0)\n",
    "t0 = time()\n",
    "lda.fit(tf)\n",
    "print(\"done in %0.3fs.\" % (time() - t0))\n",
    "\n",
    "print(\"\\nTopics in LDA model:\")\n",
    "tf_feature_names = tf_vectorizer.get_feature_names()\n",
    "print_top_words(lda, tf_feature_names, n_top_word)"
   ]
  },
  {
   "cell_type": "code",
   "execution_count": 12,
   "metadata": {},
   "outputs": [
    {
     "name": "stdout",
     "output_type": "stream",
     "text": [
      "Fiting LSA model\n",
      "\n",
      "Topics in LSA model:\n",
      "Topic #0: covid coronavirus prices food people amp panic\n",
      "Topic #1: food panic people coronavirus buying store grocery\n",
      "Topic #2: covid food panic supermarket buying consumer need\n",
      "Topic #3: food prices panic buying demand oil amp\n",
      "Topic #4: amp store grocery people workers home prices\n",
      "Topic #5: people prices oil supermarket store go need\n",
      "Topic #6: store grocery food prices oil demand workers\n",
      "Topic #7: supermarket panic buying prices shelves oil store\n",
      "Topic #8: panic buying consumer people covid amp stop\n",
      "Topic #9: consumer crisis oil demand pandemic panic buying\n",
      "\n"
     ]
    }
   ],
   "source": [
    "# Fit the LSA model\n",
    "print(\"Fiting LSA model\")\n",
    "\n",
    "lsa = TruncatedSVD(n_components=n_components, n_iter=40, tol=0.01)\n",
    "\n",
    "lsa.fit(tf)\n",
    "\n",
    "print(\"\\nTopics in LSA model:\")\n",
    "\n",
    "print_top_words(lsa, tf_feature_names, n_top_word)"
   ]
  },
  {
   "cell_type": "code",
   "execution_count": null,
   "metadata": {},
   "outputs": [],
   "source": []
  }
 ],
 "metadata": {
  "kernelspec": {
   "display_name": "Python 3",
   "language": "python",
   "name": "python3"
  },
  "language_info": {
   "codemirror_mode": {
    "name": "ipython",
    "version": 3
   },
   "file_extension": ".py",
   "mimetype": "text/x-python",
   "name": "python",
   "nbconvert_exporter": "python",
   "pygments_lexer": "ipython3",
   "version": "3.7.9"
  }
 },
 "nbformat": 4,
 "nbformat_minor": 4
}
